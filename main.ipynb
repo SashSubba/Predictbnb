{
 "metadata": {
  "language_info": {
   "codemirror_mode": {
    "name": "ipython",
    "version": 3
   },
   "file_extension": ".py",
   "mimetype": "text/x-python",
   "name": "python",
   "nbconvert_exporter": "python",
   "pygments_lexer": "ipython3",
   "version": "3.8.3-final"
  },
  "orig_nbformat": 2,
  "kernelspec": {
   "name": "python3",
   "display_name": "Python 3"
  }
 },
 "nbformat": 4,
 "nbformat_minor": 2,
 "cells": [
  {
   "cell_type": "code",
   "execution_count": 18,
   "metadata": {},
   "outputs": [],
   "source": [
    "import csv\n",
    "import gzip\n",
    "import json\n",
    "import matplotlib as plt\n",
    "import numpy as np\n",
    "import pandas as pd\n",
    "import sklearn\n",
    "import sklearn.model_selection\n",
    "import torch"
   ]
  },
  {
   "cell_type": "code",
   "execution_count": 19,
   "metadata": {
    "tags": []
   },
   "outputs": [
    {
     "output_type": "stream",
     "name": "stdout",
     "text": [
      "<class 'pandas.core.frame.DataFrame'>\nRangeIndex: 13594 entries, 0 to 13593\nData columns (total 74 columns):\n #   Column                                        Non-Null Count  Dtype  \n---  ------                                        --------------  -----  \n 0   id                                            13594 non-null  int64  \n 1   listing_url                                   13594 non-null  object \n 2   scrape_id                                     13594 non-null  int64  \n 3   last_scraped                                  13594 non-null  object \n 4   name                                          13586 non-null  object \n 5   description                                   13002 non-null  object \n 6   neighborhood_overview                         7875 non-null   object \n 7   picture_url                                   13594 non-null  object \n 8   host_id                                       13594 non-null  int64  \n 9   host_url                                      13594 non-null  object \n 10  host_name                                     13591 non-null  object \n 11  host_since                                    13591 non-null  object \n 12  host_location                                 13575 non-null  object \n 13  host_about                                    7420 non-null   object \n 14  host_response_time                            7597 non-null   object \n 15  host_response_rate                            7597 non-null   object \n 16  host_acceptance_rate                          9026 non-null   object \n 17  host_is_superhost                             13591 non-null  object \n 18  host_thumbnail_url                            13591 non-null  object \n 19  host_picture_url                              13591 non-null  object \n 20  host_neighbourhood                            10814 non-null  object \n 21  host_listings_count                           13591 non-null  float64\n 22  host_total_listings_count                     13591 non-null  float64\n 23  host_verifications                            13594 non-null  object \n 24  host_has_profile_pic                          13591 non-null  object \n 25  host_identity_verified                        13591 non-null  object \n 26  neighbourhood                                 7875 non-null   object \n 27  neighbourhood_cleansed                        13594 non-null  object \n 28  neighbourhood_group_cleansed                  0 non-null      float64\n 29  latitude                                      13594 non-null  float64\n 30  longitude                                     13594 non-null  float64\n 31  property_type                                 13594 non-null  object \n 32  room_type                                     13594 non-null  object \n 33  accommodates                                  13594 non-null  int64  \n 34  bathrooms                                     0 non-null      float64\n 35  bathrooms_text                                13568 non-null  object \n 36  bedrooms                                      12103 non-null  float64\n 37  beds                                          13436 non-null  float64\n 38  amenities                                     13594 non-null  object \n 39  price                                         13594 non-null  object \n 40  minimum_nights                                13594 non-null  int64  \n 41  maximum_nights                                13594 non-null  int64  \n 42  minimum_minimum_nights                        13594 non-null  int64  \n 43  maximum_minimum_nights                        13594 non-null  int64  \n 44  minimum_maximum_nights                        13594 non-null  int64  \n 45  maximum_maximum_nights                        13594 non-null  int64  \n 46  minimum_nights_avg_ntm                        13594 non-null  float64\n 47  maximum_nights_avg_ntm                        13594 non-null  float64\n 48  calendar_updated                              0 non-null      float64\n 49  has_availability                              13594 non-null  object \n 50  availability_30                               13594 non-null  int64  \n 51  availability_60                               13594 non-null  int64  \n 52  availability_90                               13594 non-null  int64  \n 53  availability_365                              13594 non-null  int64  \n 54  calendar_last_scraped                         13594 non-null  object \n 55  number_of_reviews                             13594 non-null  int64  \n 56  number_of_reviews_ltm                         13594 non-null  int64  \n 57  number_of_reviews_l30d                        13594 non-null  int64  \n 58  first_review                                  10556 non-null  object \n 59  last_review                                   10556 non-null  object \n 60  review_scores_rating                          10250 non-null  float64\n 61  review_scores_accuracy                        10236 non-null  float64\n 62  review_scores_cleanliness                     10237 non-null  float64\n 63  review_scores_checkin                         10233 non-null  float64\n 64  review_scores_communication                   10238 non-null  float64\n 65  review_scores_location                        10230 non-null  float64\n 66  review_scores_value                           10230 non-null  float64\n 67  license                                       0 non-null      float64\n 68  instant_bookable                              13594 non-null  object \n 69  calculated_host_listings_count                13594 non-null  int64  \n 70  calculated_host_listings_count_entire_homes   13594 non-null  int64  \n 71  calculated_host_listings_count_private_rooms  13594 non-null  int64  \n 72  calculated_host_listings_count_shared_rooms   13594 non-null  int64  \n 73  reviews_per_month                             10556 non-null  float64\ndtypes: float64(20), int64(21), object(33)\nmemory usage: 7.7+ MB\n"
     ]
    }
   ],
   "source": [
    "#load total listings from csv file onto pd object\n",
    "data = pd.read_csv('listings.csv');\n",
    "\n",
    "#initial data information and data separation\n",
    "data.info();\n",
    "X_pd = data.drop('price', axis=1);\n",
    "y_pd = data['price'];\n",
    "\n",
    "#pd object conversion to np for easy data manipulation\n",
    "X_np = X_pd.to_numpy();\n",
    "y_np = y_pd.to_numpy();"
   ]
  },
  {
   "cell_type": "code",
   "execution_count": 20,
   "metadata": {},
   "outputs": [],
   "source": [
    "X_train, X_test, y_train, y_test = sklearn.model_selection.train_test_split(X_np, y_np, test_size=0.30, random_state=0);"
   ]
  }
 ]
}